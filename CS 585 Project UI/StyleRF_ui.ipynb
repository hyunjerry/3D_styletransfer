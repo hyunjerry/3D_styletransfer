{
 "cells": [
  {
   "cell_type": "code",
   "execution_count": null,
   "metadata": {},
   "outputs": [],
   "source": [
    "# !pip install gradio"
   ]
  },
  {
   "cell_type": "code",
   "execution_count": 1,
   "metadata": {},
   "outputs": [],
   "source": [
    "import gradio as gr\n",
    "import torch\n",
    "import torchvision.transforms as T\n",
    "from PIL import Image\n",
    "import requests\n",
    "from io import BytesIO\n",
    "import os\n",
    "cur_dir = os.getcwd()"
   ]
  },
  {
   "cell_type": "code",
   "execution_count": 2,
   "metadata": {},
   "outputs": [
    {
     "name": "stdout",
     "output_type": "stream",
     "text": [
      "Running on local URL:  http://127.0.0.1:7860\n",
      "\n",
      "To create a public link, set `share=True` in `launch()`.\n"
     ]
    },
    {
     "data": {
      "text/html": [
       "<div><iframe src=\"http://127.0.0.1:7860/\" width=\"100%\" height=\"500\" allow=\"autoplay; camera; microphone; clipboard-read; clipboard-write;\" frameborder=\"0\" allowfullscreen></iframe></div>"
      ],
      "text/plain": [
       "<IPython.core.display.HTML object>"
      ]
     },
     "metadata": {},
     "output_type": "display_data"
    },
    {
     "data": {
      "text/plain": []
     },
     "execution_count": 2,
     "metadata": {},
     "output_type": "execute_result"
    }
   ],
   "source": [
    "# Mapping function from selected index to video\n",
    "def show_video(selected_image):\n",
    "    video_files = {\n",
    "        \"Default\": f\"{cur_dir}/gt_video.mp4\",\n",
    "        \"Ghibli\": f\"{cur_dir}/Ghibli_video.mp4\",\n",
    "        \"Tiger\": f\"{cur_dir}/Tiger_video.mp4\",\n",
    "        \"Camille Pissarro\": f\"{cur_dir}/Camille_Pissarro_video.mp4\",\n",
    "        \"Marsh\": f\"{cur_dir}/Marsh_video.mp4\",\n",
    "        \"HSV\": f\"{cur_dir}/Hsv_full_video.mp4\",\n",
    "    }\n",
    "    return video_files[selected_image]\n",
    "\n",
    "# Images to be displayed\n",
    "image_paths = {\n",
    "    \"Default\": f\"{cur_dir}/ground_truth.png\",\n",
    "    \"Ghibli\": f\"{cur_dir}/138.jpg\",\n",
    "    \"Tiger\": f\"{cur_dir}/122.jpg\",\n",
    "    \"Camille Pissarro\": f\"{cur_dir}/38.jpg\",\n",
    "    \"Marsh\": f\"{cur_dir}/Marsh.jpg\",\n",
    "    \"HSV\": f\"{cur_dir}/Hsv_full.jpg\",\n",
    "}\n",
    "\n",
    "# # Launch the interface\n",
    "def setup_interface():\n",
    "    with gr.Blocks() as blocks:\n",
    "        gr.Markdown(\"# 3D Style Transfer\")\n",
    "        with gr.Row():\n",
    "            gr.Column(scale=4)            \n",
    "            with gr.Column(scale=3):\n",
    "                output_video = gr.Video() \n",
    "            gr.Column(scale=4)\n",
    "          \n",
    "\n",
    "        # Top row for buttons\n",
    "        with gr.Row():\n",
    "            for label in image_paths.keys():\n",
    "                button = gr.Button(value=f\"{label}\")\n",
    "                button.click(\n",
    "                    fn=lambda x=label: show_video(x),  # Use lambda to capture the label\n",
    "                    outputs = output_video  # Direct output to the video component\n",
    "                )\n",
    "\n",
    "        # Bottom row for images\n",
    "        with gr.Row():\n",
    "            for label, path in image_paths.items():\n",
    "                gr.Image(value=path, interactive=False)\n",
    "\n",
    "    return blocks\n",
    "\n",
    "interface = setup_interface()\n",
    "interface.launch()"
   ]
  }
 ],
 "metadata": {
  "kernelspec": {
   "display_name": "py311-openai-v1",
   "language": "python",
   "name": "python3"
  },
  "language_info": {
   "codemirror_mode": {
    "name": "ipython",
    "version": 3
   },
   "file_extension": ".py",
   "mimetype": "text/x-python",
   "name": "python",
   "nbconvert_exporter": "python",
   "pygments_lexer": "ipython3",
   "version": "3.10.11"
  }
 },
 "nbformat": 4,
 "nbformat_minor": 2
}
