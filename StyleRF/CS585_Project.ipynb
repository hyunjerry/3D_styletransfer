{
 "cells": [
  {
   "cell_type": "code",
   "execution_count": 1,
   "metadata": {
    "colab": {
     "base_uri": "https://localhost:8080/"
    },
    "id": "JbMgyab9nVUy",
    "outputId": "f111756e-d634-4b5a-dacc-b057c20c59b9"
   },
   "outputs": [
    {
     "name": "stdout",
     "output_type": "stream",
     "text": [
      "Sun Apr 21 15:07:39 2024       \n",
      "+-----------------------------------------------------------------------------------------+\n",
      "| NVIDIA-SMI 550.54.15              Driver Version: 550.54.15      CUDA Version: 12.4     |\n",
      "|-----------------------------------------+------------------------+----------------------+\n",
      "| GPU  Name                 Persistence-M | Bus-Id          Disp.A | Volatile Uncorr. ECC |\n",
      "| Fan  Temp   Perf          Pwr:Usage/Cap |           Memory-Usage | GPU-Util  Compute M. |\n",
      "|                                         |                        |               MIG M. |\n",
      "|=========================================+========================+======================|\n",
      "|   0  NVIDIA A40                     On  |   00000000:4F:00.0 Off |                    0 |\n",
      "|  0%   37C    P0             54W /  300W |       0MiB /  46068MiB |      0%   E. Process |\n",
      "|                                         |                        |                  N/A |\n",
      "+-----------------------------------------+------------------------+----------------------+\n",
      "|   1  NVIDIA A40                     On  |   00000000:52:00.0 Off |                    0 |\n",
      "|  0%   33C    P8             22W /  300W |       0MiB /  46068MiB |      0%   E. Process |\n",
      "|                                         |                        |                  N/A |\n",
      "+-----------------------------------------+------------------------+----------------------+\n",
      "|   2  NVIDIA A40                     On  |   00000000:53:00.0 Off |                    0 |\n",
      "|  0%   32C    P8             21W /  300W |       0MiB /  46068MiB |      0%   E. Process |\n",
      "|                                         |                        |                  N/A |\n",
      "+-----------------------------------------+------------------------+----------------------+\n",
      "|   3  NVIDIA A40                     On  |   00000000:56:00.0 Off |                    0 |\n",
      "|  0%   31C    P8             21W /  300W |       0MiB /  46068MiB |      0%   E. Process |\n",
      "|                                         |                        |                  N/A |\n",
      "+-----------------------------------------+------------------------+----------------------+\n",
      "|   4  NVIDIA A40                     On  |   00000000:57:00.0 Off |                    0 |\n",
      "|  0%   33C    P8             21W /  300W |       3MiB /  46068MiB |      0%   E. Process |\n",
      "|                                         |                        |                  N/A |\n",
      "+-----------------------------------------+------------------------+----------------------+\n",
      "|   5  NVIDIA A40                     On  |   00000000:CE:00.0 Off |                    0 |\n",
      "|  0%   32C    P8             21W /  300W |       3MiB /  46068MiB |      0%   E. Process |\n",
      "|                                         |                        |                  N/A |\n",
      "+-----------------------------------------+------------------------+----------------------+\n",
      "|   6  NVIDIA A40                     On  |   00000000:D1:00.0 Off |                    0 |\n",
      "|  0%   33C    P8             21W /  300W |       3MiB /  46068MiB |      0%   E. Process |\n",
      "|                                         |                        |                  N/A |\n",
      "+-----------------------------------------+------------------------+----------------------+\n",
      "|   7  NVIDIA A40                     On  |   00000000:D2:00.0 Off |                    0 |\n",
      "|  0%   32C    P8             21W /  300W |       3MiB /  46068MiB |      0%   E. Process |\n",
      "|                                         |                        |                  N/A |\n",
      "+-----------------------------------------+------------------------+----------------------+\n",
      "|   8  NVIDIA A40                     On  |   00000000:D5:00.0 Off |                    0 |\n",
      "|  0%   34C    P8             21W /  300W |       0MiB /  46068MiB |      0%   E. Process |\n",
      "|                                         |                        |                  N/A |\n",
      "+-----------------------------------------+------------------------+----------------------+\n",
      "|   9  NVIDIA A40                     On  |   00000000:D6:00.0 Off |                    0 |\n",
      "|  0%   35C    P8             21W /  300W |       3MiB /  46068MiB |      0%   E. Process |\n",
      "|                                         |                        |                  N/A |\n",
      "+-----------------------------------------+------------------------+----------------------+\n",
      "                                                                                         \n",
      "+-----------------------------------------------------------------------------------------+\n",
      "| Processes:                                                                              |\n",
      "|  GPU   GI   CI        PID   Type   Process name                              GPU Memory |\n",
      "|        ID   ID                                                               Usage      |\n",
      "|=========================================================================================|\n",
      "|  No running processes found                                                             |\n",
      "+-----------------------------------------------------------------------------------------+\n"
     ]
    }
   ],
   "source": [
    "!nvidia-smi"
   ]
  },
  {
   "cell_type": "code",
   "execution_count": 4,
   "metadata": {
    "id": "iBoPALaIyFzL"
   },
   "outputs": [],
   "source": [
    "!export PATH=/usr/local/cuda/bin:$PATH\n",
    "!export LD_LIBRARY_PATH=/usr/local/cuda/lib64:$LD_LIBRARY_PATH"
   ]
  },
  {
   "cell_type": "code",
   "execution_count": 25,
   "metadata": {
    "id": "O0G4muzYncyw"
   },
   "outputs": [
    {
     "name": "stdout",
     "output_type": "stream",
     "text": [
      "aabb tensor([-0.6969, -1.1929, -0.4843,  0.6969,  1.1929,  1.0512], device='cuda:0')\n",
      "grid size [242, 415, 267]\n",
      "sampling step size:  tensor(0.0029, device='cuda:0')\n",
      "sampling number:  1096\n",
      "pos_pe 6 view_pe 2 fea_pe 2\n",
      "Loading data test (200): 100%|████████████████| 200/200 [00:05<00:00, 34.77it/s]\n",
      "Traceback (most recent call last):\n",
      "  File \"/projectnb/cs585/shhyun/StyleRF/train_style.py\", line 293, in <module>\n",
      "    render_test(args)\n",
      "  File \"/share/pkg.7/pytorch/1.13.1/install/lib/SCC/../python3.9/site-packages/torch/autograd/grad_mode.py\", line 27, in decorate_context\n",
      "    return func(*args, **kwargs)\n",
      "  File \"/projectnb/cs585/shhyun/StyleRF/train_style.py\", line 108, in render_test\n",
      "    c2ws = test_dataset.render_path\n",
      "AttributeError: 'BlenderDataset' object has no attribute 'render_path'\n"
     ]
    }
   ],
   "source": [
    "## TREX\n",
    "# !CUDA_VISIBLE_DEVICES=$1 python train_style.py --config \"configs/llff_style.txt\" --datadir \"./data/nerf_llff_data/trex\" --expname \"trex\" --ckpt \"log_style/trex/trex.th\" --style_img \"./data/images/figurative/122.jpg\" --render_only 1 --render_train 0 --render_test 0 --render_path 1 --chunk_size 1024 --rm_weight_mask_thre 0.0001 \n",
    "\n",
    "## LEGO\n",
    "# ! 'python train_style.py'\n",
    "\n",
    "!python train_style.py --config \"configs/nerf_synthetic_style.txt\" --datadir \"./data/nerf_synthetic/lego\" --expname \"lego\" --ckpt \"log_style/lego/lego.th\" --style_img \"./data/images/figurative/38.jpg\" --render_only 1 --render_train 0 --render_test 0 --render_path 1 --chunk_size 1024 --rm_weight_mask_thre 0.0001 \n",
    "!python train_style.py --config \"configs/nerf_synthetic_style.txt\" --datadir \"./data/nerf_synthetic/lego\" --expname \"lego\" --ckpt \"log_style/lego/lego.th\" --style_img \"./data/images/figurative/Marsh.jpg\" --render_only 1 --render_train 0 --render_test 0 --render_path 1 --chunk_size 1024 --rm_weight_mask_thre 0.0001 \n",
    "!python train_style.py --config \"configs/nerf_synthetic_style.txt\" --datadir \"./data/nerf_synthetic/lego\" --expname \"lego\" --ckpt \"log_style/lego/lego.th\" --style_img \"./data/images/figurative/138.jpg\" --render_only 1 --render_train 0 --render_test 0 --render_path 1 --chunk_size 1024 --rm_weight_mask_thre 0.0001 \n"
   ]
  },
  {
   "cell_type": "code",
   "execution_count": null,
   "metadata": {
    "id": "RKgykF_vncwL"
   },
   "outputs": [],
   "source": []
  },
  {
   "cell_type": "code",
   "execution_count": null,
   "metadata": {
    "id": "RUccml5lnctt"
   },
   "outputs": [],
   "source": []
  }
 ],
 "metadata": {
  "accelerator": "GPU",
  "colab": {
   "gpuType": "T4",
   "machine_shape": "hm",
   "provenance": []
  },
  "kernelspec": {
   "display_name": "Python 3 (ipykernel)",
   "language": "python",
   "name": "python3"
  },
  "language_info": {
   "codemirror_mode": {
    "name": "ipython",
    "version": 3
   },
   "file_extension": ".py",
   "mimetype": "text/x-python",
   "name": "python",
   "nbconvert_exporter": "python",
   "pygments_lexer": "ipython3",
   "version": "3.9.19"
  }
 },
 "nbformat": 4,
 "nbformat_minor": 4
}
